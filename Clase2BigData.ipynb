{
  "nbformat": 4,
  "nbformat_minor": 0,
  "metadata": {
    "colab": {
      "provenance": []
    },
    "kernelspec": {
      "name": "python3",
      "display_name": "Python 3"
    },
    "language_info": {
      "name": "python"
    }
  },
  "cells": [
    {
      "cell_type": "code",
      "execution_count": 1,
      "metadata": {
        "id": "gYFhDFLF3_oO"
      },
      "outputs": [],
      "source": [
        "import pandas as pd"
      ]
    },
    {
      "cell_type": "code",
      "source": [
        "csv_url= \"http://cicresearch.ca/CICDataset/CICDarknet2020/Dataset/Darknet.CSV\"\n",
        "df = pd.read_csv(csv_url)\n",
        "\n",
        "print(df.head())"
      ],
      "metadata": {
        "colab": {
          "base_uri": "https://localhost:8080/"
        },
        "id": "iI8g_Hqe4HmB",
        "outputId": "c089877b-a0b7-43cf-8b7a-f7a3ffd06d09"
      },
      "execution_count": 2,
      "outputs": [
        {
          "output_type": "stream",
          "name": "stdout",
          "text": [
            "                                      Flow ID         Src IP  Src Port  \\\n",
            "0     10.152.152.11-216.58.220.99-57158-443-6  10.152.152.11     57158   \n",
            "1     10.152.152.11-216.58.220.99-57159-443-6  10.152.152.11     57159   \n",
            "2     10.152.152.11-216.58.220.99-57160-443-6  10.152.152.11     57160   \n",
            "3    10.152.152.11-74.125.136.120-49134-443-6  10.152.152.11     49134   \n",
            "4  10.152.152.11-173.194.65.127-34697-19305-6  10.152.152.11     34697   \n",
            "\n",
            "           Dst IP  Dst Port  Protocol               Timestamp  Flow Duration  \\\n",
            "0   216.58.220.99       443         6  24/07/2015 04:09:48 PM            229   \n",
            "1   216.58.220.99       443         6  24/07/2015 04:09:48 PM            407   \n",
            "2   216.58.220.99       443         6  24/07/2015 04:09:48 PM            431   \n",
            "3  74.125.136.120       443         6  24/07/2015 04:09:48 PM            359   \n",
            "4  173.194.65.127     19305         6  24/07/2015 04:09:45 PM       10778451   \n",
            "\n",
            "   Total Fwd Packet  Total Bwd packets  ...  Active Mean  Active Std  \\\n",
            "0                 1                  1  ...            0           0   \n",
            "1                 1                  1  ...            0           0   \n",
            "2                 1                  1  ...            0           0   \n",
            "3                 1                  1  ...            0           0   \n",
            "4               591                400  ...            0           0   \n",
            "\n",
            "   Active Max  Active Min     Idle Mean      Idle Std      Idle Max  \\\n",
            "0           0           0  0.000000e+00  0.000000e+00  0.000000e+00   \n",
            "1           0           0  0.000000e+00  0.000000e+00  0.000000e+00   \n",
            "2           0           0  0.000000e+00  0.000000e+00  0.000000e+00   \n",
            "3           0           0  0.000000e+00  0.000000e+00  0.000000e+00   \n",
            "4           0           0  1.437765e+15  3.117718e+06  1.437765e+15   \n",
            "\n",
            "       Idle Min    Label          Label.1  \n",
            "0  0.000000e+00  Non-Tor  AUDIO-STREAMING  \n",
            "1  0.000000e+00  Non-Tor  AUDIO-STREAMING  \n",
            "2  0.000000e+00  Non-Tor  AUDIO-STREAMING  \n",
            "3  0.000000e+00  Non-Tor  AUDIO-STREAMING  \n",
            "4  1.437765e+15  Non-Tor  AUDIO-STREAMING  \n",
            "\n",
            "[5 rows x 85 columns]\n"
          ]
        }
      ]
    },
    {
      "cell_type": "code",
      "source": [
        "df1 = df.dropna()#Elimina los campos que tengan vacios."
      ],
      "metadata": {
        "id": "KOVxf5s19DAc"
      },
      "execution_count": 3,
      "outputs": []
    },
    {
      "cell_type": "code",
      "source": [
        "print(len(df))\n",
        "print(len(df1))"
      ],
      "metadata": {
        "colab": {
          "base_uri": "https://localhost:8080/"
        },
        "id": "jZCyFUnX-AHy",
        "outputId": "629a1761-2b02-48c7-db8c-d5d367ab490c"
      },
      "execution_count": 4,
      "outputs": [
        {
          "output_type": "stream",
          "name": "stdout",
          "text": [
            "158616\n",
            "158568\n"
          ]
        }
      ]
    },
    {
      "cell_type": "code",
      "source": [
        "df2 = df.fillna(\"Mafe\")"
      ],
      "metadata": {
        "id": "2y_C1Nr1_y5l"
      },
      "execution_count": 5,
      "outputs": []
    },
    {
      "cell_type": "code",
      "source": [
        "print(df.columns)"
      ],
      "metadata": {
        "colab": {
          "base_uri": "https://localhost:8080/"
        },
        "id": "_j-RtsptACvt",
        "outputId": "09d357e3-665e-4924-be39-e081927ba123"
      },
      "execution_count": 6,
      "outputs": [
        {
          "output_type": "stream",
          "name": "stdout",
          "text": [
            "Index(['Flow ID', 'Src IP', 'Src Port', 'Dst IP', 'Dst Port', 'Protocol',\n",
            "       'Timestamp', 'Flow Duration', 'Total Fwd Packet', 'Total Bwd packets',\n",
            "       'Total Length of Fwd Packet', 'Total Length of Bwd Packet',\n",
            "       'Fwd Packet Length Max', 'Fwd Packet Length Min',\n",
            "       'Fwd Packet Length Mean', 'Fwd Packet Length Std',\n",
            "       'Bwd Packet Length Max', 'Bwd Packet Length Min',\n",
            "       'Bwd Packet Length Mean', 'Bwd Packet Length Std', 'Flow Bytes/s',\n",
            "       'Flow Packets/s', 'Flow IAT Mean', 'Flow IAT Std', 'Flow IAT Max',\n",
            "       'Flow IAT Min', 'Fwd IAT Total', 'Fwd IAT Mean', 'Fwd IAT Std',\n",
            "       'Fwd IAT Max', 'Fwd IAT Min', 'Bwd IAT Total', 'Bwd IAT Mean',\n",
            "       'Bwd IAT Std', 'Bwd IAT Max', 'Bwd IAT Min', 'Fwd PSH Flags',\n",
            "       'Bwd PSH Flags', 'Fwd URG Flags', 'Bwd URG Flags', 'Fwd Header Length',\n",
            "       'Bwd Header Length', 'Fwd Packets/s', 'Bwd Packets/s',\n",
            "       'Packet Length Min', 'Packet Length Max', 'Packet Length Mean',\n",
            "       'Packet Length Std', 'Packet Length Variance', 'FIN Flag Count',\n",
            "       'SYN Flag Count', 'RST Flag Count', 'PSH Flag Count', 'ACK Flag Count',\n",
            "       'URG Flag Count', 'CWE Flag Count', 'ECE Flag Count', 'Down/Up Ratio',\n",
            "       'Average Packet Size', 'Fwd Segment Size Avg', 'Bwd Segment Size Avg',\n",
            "       'Fwd Bytes/Bulk Avg', 'Fwd Packet/Bulk Avg', 'Fwd Bulk Rate Avg',\n",
            "       'Bwd Bytes/Bulk Avg', 'Bwd Packet/Bulk Avg', 'Bwd Bulk Rate Avg',\n",
            "       'Subflow Fwd Packets', 'Subflow Fwd Bytes', 'Subflow Bwd Packets',\n",
            "       'Subflow Bwd Bytes', 'FWD Init Win Bytes', 'Bwd Init Win Bytes',\n",
            "       'Fwd Act Data Pkts', 'Fwd Seg Size Min', 'Active Mean', 'Active Std',\n",
            "       'Active Max', 'Active Min', 'Idle Mean', 'Idle Std', 'Idle Max',\n",
            "       'Idle Min', 'Label', 'Label.1'],\n",
            "      dtype='object')\n"
          ]
        }
      ]
    },
    {
      "cell_type": "code",
      "source": [
        "df2[\"Timestamp\"]=pd.to_datetime(df2[\"Timestamp\"])\n",
        "print(df2.columns)"
      ],
      "metadata": {
        "colab": {
          "base_uri": "https://localhost:8080/"
        },
        "collapsed": true,
        "id": "FEfuKOoSBTLj",
        "outputId": "5fc9fe03-2489-4225-ebf0-7430b22acbd3"
      },
      "execution_count": 8,
      "outputs": [
        {
          "output_type": "stream",
          "name": "stdout",
          "text": [
            "Index(['Flow ID', 'Src IP', 'Src Port', 'Dst IP', 'Dst Port', 'Protocol',\n",
            "       'Timestamp', 'Flow Duration', 'Total Fwd Packet', 'Total Bwd packets',\n",
            "       'Total Length of Fwd Packet', 'Total Length of Bwd Packet',\n",
            "       'Fwd Packet Length Max', 'Fwd Packet Length Min',\n",
            "       'Fwd Packet Length Mean', 'Fwd Packet Length Std',\n",
            "       'Bwd Packet Length Max', 'Bwd Packet Length Min',\n",
            "       'Bwd Packet Length Mean', 'Bwd Packet Length Std', 'Flow Bytes/s',\n",
            "       'Flow Packets/s', 'Flow IAT Mean', 'Flow IAT Std', 'Flow IAT Max',\n",
            "       'Flow IAT Min', 'Fwd IAT Total', 'Fwd IAT Mean', 'Fwd IAT Std',\n",
            "       'Fwd IAT Max', 'Fwd IAT Min', 'Bwd IAT Total', 'Bwd IAT Mean',\n",
            "       'Bwd IAT Std', 'Bwd IAT Max', 'Bwd IAT Min', 'Fwd PSH Flags',\n",
            "       'Bwd PSH Flags', 'Fwd URG Flags', 'Bwd URG Flags', 'Fwd Header Length',\n",
            "       'Bwd Header Length', 'Fwd Packets/s', 'Bwd Packets/s',\n",
            "       'Packet Length Min', 'Packet Length Max', 'Packet Length Mean',\n",
            "       'Packet Length Std', 'Packet Length Variance', 'FIN Flag Count',\n",
            "       'SYN Flag Count', 'RST Flag Count', 'PSH Flag Count', 'ACK Flag Count',\n",
            "       'URG Flag Count', 'CWE Flag Count', 'ECE Flag Count', 'Down/Up Ratio',\n",
            "       'Average Packet Size', 'Fwd Segment Size Avg', 'Bwd Segment Size Avg',\n",
            "       'Fwd Bytes/Bulk Avg', 'Fwd Packet/Bulk Avg', 'Fwd Bulk Rate Avg',\n",
            "       'Bwd Bytes/Bulk Avg', 'Bwd Packet/Bulk Avg', 'Bwd Bulk Rate Avg',\n",
            "       'Subflow Fwd Packets', 'Subflow Fwd Bytes', 'Subflow Bwd Packets',\n",
            "       'Subflow Bwd Bytes', 'FWD Init Win Bytes', 'Bwd Init Win Bytes',\n",
            "       'Fwd Act Data Pkts', 'Fwd Seg Size Min', 'Active Mean', 'Active Std',\n",
            "       'Active Max', 'Active Min', 'Idle Mean', 'Idle Std', 'Idle Max',\n",
            "       'Idle Min', 'Label', 'Label.1'],\n",
            "      dtype='object')\n"
          ]
        }
      ]
    },
    {
      "cell_type": "code",
      "source": [
        "df2[\"Flow Duration\"]=pd.to_numeric(df2[\"Flow Duration\"])\n",
        "print(df2.columns)"
      ],
      "metadata": {
        "colab": {
          "base_uri": "https://localhost:8080/"
        },
        "collapsed": true,
        "id": "oLjI3qBsFwnV",
        "outputId": "cf023981-1a43-4552-cc59-bfefd8e04c52"
      },
      "execution_count": 9,
      "outputs": [
        {
          "output_type": "stream",
          "name": "stdout",
          "text": [
            "Index(['Flow ID', 'Src IP', 'Src Port', 'Dst IP', 'Dst Port', 'Protocol',\n",
            "       'Timestamp', 'Flow Duration', 'Total Fwd Packet', 'Total Bwd packets',\n",
            "       'Total Length of Fwd Packet', 'Total Length of Bwd Packet',\n",
            "       'Fwd Packet Length Max', 'Fwd Packet Length Min',\n",
            "       'Fwd Packet Length Mean', 'Fwd Packet Length Std',\n",
            "       'Bwd Packet Length Max', 'Bwd Packet Length Min',\n",
            "       'Bwd Packet Length Mean', 'Bwd Packet Length Std', 'Flow Bytes/s',\n",
            "       'Flow Packets/s', 'Flow IAT Mean', 'Flow IAT Std', 'Flow IAT Max',\n",
            "       'Flow IAT Min', 'Fwd IAT Total', 'Fwd IAT Mean', 'Fwd IAT Std',\n",
            "       'Fwd IAT Max', 'Fwd IAT Min', 'Bwd IAT Total', 'Bwd IAT Mean',\n",
            "       'Bwd IAT Std', 'Bwd IAT Max', 'Bwd IAT Min', 'Fwd PSH Flags',\n",
            "       'Bwd PSH Flags', 'Fwd URG Flags', 'Bwd URG Flags', 'Fwd Header Length',\n",
            "       'Bwd Header Length', 'Fwd Packets/s', 'Bwd Packets/s',\n",
            "       'Packet Length Min', 'Packet Length Max', 'Packet Length Mean',\n",
            "       'Packet Length Std', 'Packet Length Variance', 'FIN Flag Count',\n",
            "       'SYN Flag Count', 'RST Flag Count', 'PSH Flag Count', 'ACK Flag Count',\n",
            "       'URG Flag Count', 'CWE Flag Count', 'ECE Flag Count', 'Down/Up Ratio',\n",
            "       'Average Packet Size', 'Fwd Segment Size Avg', 'Bwd Segment Size Avg',\n",
            "       'Fwd Bytes/Bulk Avg', 'Fwd Packet/Bulk Avg', 'Fwd Bulk Rate Avg',\n",
            "       'Bwd Bytes/Bulk Avg', 'Bwd Packet/Bulk Avg', 'Bwd Bulk Rate Avg',\n",
            "       'Subflow Fwd Packets', 'Subflow Fwd Bytes', 'Subflow Bwd Packets',\n",
            "       'Subflow Bwd Bytes', 'FWD Init Win Bytes', 'Bwd Init Win Bytes',\n",
            "       'Fwd Act Data Pkts', 'Fwd Seg Size Min', 'Active Mean', 'Active Std',\n",
            "       'Active Max', 'Active Min', 'Idle Mean', 'Idle Std', 'Idle Max',\n",
            "       'Idle Min', 'Label', 'Label.1'],\n",
            "      dtype='object')\n"
          ]
        }
      ]
    },
    {
      "cell_type": "code",
      "source": [
        "print(df2[\"Total Fwd Packet\"].dtype)"
      ],
      "metadata": {
        "colab": {
          "base_uri": "https://localhost:8080/"
        },
        "id": "gr7W-ra4Gh50",
        "outputId": "6d1f8a26-20a3-4696-c9a4-5312ed21c80e"
      },
      "execution_count": 10,
      "outputs": [
        {
          "output_type": "stream",
          "name": "stdout",
          "text": [
            "int64\n"
          ]
        }
      ]
    },
    {
      "cell_type": "code",
      "source": [
        "print(df2[\"Total Bwd packets\"].dtype)"
      ],
      "metadata": {
        "colab": {
          "base_uri": "https://localhost:8080/"
        },
        "id": "LclFg7MRHSZi",
        "outputId": "51244f95-0025-42b9-f36d-cb59159ab1ec"
      },
      "execution_count": 11,
      "outputs": [
        {
          "output_type": "stream",
          "name": "stdout",
          "text": [
            "int64\n"
          ]
        }
      ]
    },
    {
      "cell_type": "code",
      "source": [
        "df2[\"Total Length of Fwd Packet\"]=pd.to_numeric(df2[\"Total Length of Fwd Packet\"])\n",
        "print(df2[\"Total Length of Fwd Packet\"].dtype)"
      ],
      "metadata": {
        "colab": {
          "base_uri": "https://localhost:8080/"
        },
        "id": "2rbdWzDuIZ7r",
        "outputId": "a6b8145f-985e-4be2-bdd3-4d7fafb06431"
      },
      "execution_count": 12,
      "outputs": [
        {
          "output_type": "stream",
          "name": "stdout",
          "text": [
            "int64\n"
          ]
        }
      ]
    },
    {
      "cell_type": "code",
      "source": [
        "df2[\"Total Length of Bwd Packet\"]= pd.to_numeric(df2[\"Total Length of Bwd Packet\"])\n",
        "print(df2[\"Total Length of Bwd Packet\"].dtype)"
      ],
      "metadata": {
        "colab": {
          "base_uri": "https://localhost:8080/"
        },
        "id": "IpgDNsCkJUwa",
        "outputId": "aa7350cb-90b5-4a6d-a0e2-fbb0e8397b5d"
      },
      "execution_count": 13,
      "outputs": [
        {
          "output_type": "stream",
          "name": "stdout",
          "text": [
            "int64\n"
          ]
        }
      ]
    },
    {
      "cell_type": "code",
      "source": [
        "df2[\"Fwd Packet Length Max\"]=pd.to_numeric(df2[\"Fwd Packet Length Max\"])\n",
        "print(df2[\"Fwd Packet Length Max\"].dtype)"
      ],
      "metadata": {
        "colab": {
          "base_uri": "https://localhost:8080/"
        },
        "id": "fIU5ZDw4J-WB",
        "outputId": "2af390c8-9cdc-4fcc-b6eb-8f1a4c16893d"
      },
      "execution_count": 14,
      "outputs": [
        {
          "output_type": "stream",
          "name": "stdout",
          "text": [
            "int64\n"
          ]
        }
      ]
    },
    {
      "cell_type": "code",
      "source": [
        "df2[\"Fwd Packet Length Min\"]=pd.to_numeric(df2[\"Fwd Packet Length Min\"])\n",
        "print(df2[\"Fwd Packet Length Min\"].dtype)"
      ],
      "metadata": {
        "colab": {
          "base_uri": "https://localhost:8080/"
        },
        "id": "V2vZepeKLcGv",
        "outputId": "d9cb2de5-d586-4761-f7b5-28531c5fe24d"
      },
      "execution_count": 15,
      "outputs": [
        {
          "output_type": "stream",
          "name": "stdout",
          "text": [
            "int64\n"
          ]
        }
      ]
    },
    {
      "cell_type": "code",
      "source": [
        "df2[\"Fwd Packet Length Mean\"]=pd.to_numeric(df2[\"Fwd Packet Length Mean\"])\n",
        "print(df2[\"Fwd Packet Length Mean\"].dtype)"
      ],
      "metadata": {
        "colab": {
          "base_uri": "https://localhost:8080/"
        },
        "id": "Xrs0PUgBLmKE",
        "outputId": "1f69b529-9195-489c-c713-9781c6b9ce2e"
      },
      "execution_count": 16,
      "outputs": [
        {
          "output_type": "stream",
          "name": "stdout",
          "text": [
            "float64\n"
          ]
        }
      ]
    },
    {
      "cell_type": "code",
      "source": [
        "df2[\"Fwd Packet Length Std\"]=pd.to_numeric(df2[\"Fwd Packet Length Std\"])\n",
        "print(df2[\"Fwd Packet Length Std\"].dtype)"
      ],
      "metadata": {
        "colab": {
          "base_uri": "https://localhost:8080/"
        },
        "id": "qA06-x0qMOru",
        "outputId": "a719c85a-8957-4d71-e8b1-940696621499"
      },
      "execution_count": 17,
      "outputs": [
        {
          "output_type": "stream",
          "name": "stdout",
          "text": [
            "float64\n"
          ]
        }
      ]
    },
    {
      "cell_type": "code",
      "source": [
        "df2[\"Bwd Packet Length Max\"]=pd.to_numeric(df2[\"Bwd Packet Length Max\"])\n",
        "print(df2[\"Bwd Packet Length Max\"].dtype)"
      ],
      "metadata": {
        "colab": {
          "base_uri": "https://localhost:8080/"
        },
        "id": "PO4U-IHvMnfP",
        "outputId": "32e3f49f-bae4-4370-a6e3-09cd1aa6ef16"
      },
      "execution_count": 18,
      "outputs": [
        {
          "output_type": "stream",
          "name": "stdout",
          "text": [
            "int64\n"
          ]
        }
      ]
    },
    {
      "cell_type": "code",
      "source": [
        "df2[\"Bwd Packet Length Min\"]= pd.to_numeric(df2[\"Bwd Packet Length Min\"])\n",
        "print(df2[\"Bwd Packet Length Min\"].dtype)"
      ],
      "metadata": {
        "colab": {
          "base_uri": "https://localhost:8080/"
        },
        "id": "ZN_9n5acM2u7",
        "outputId": "8d96dde4-b8f0-4b99-f2f3-571ffb31fed6"
      },
      "execution_count": 19,
      "outputs": [
        {
          "output_type": "stream",
          "name": "stdout",
          "text": [
            "int64\n"
          ]
        }
      ]
    },
    {
      "cell_type": "code",
      "source": [
        "df2[\"Bwd Packet Length Mean\"]=pd.to_numeric(df2[\"Bwd Packet Length Mean\"])\n",
        "print(df2[\"Bwd Packet Length Mean\"].dtype)"
      ],
      "metadata": {
        "colab": {
          "base_uri": "https://localhost:8080/"
        },
        "id": "IjUhqxwaNC_b",
        "outputId": "ba1704b4-dfd0-48f7-dd37-f56c7f02f11e"
      },
      "execution_count": 20,
      "outputs": [
        {
          "output_type": "stream",
          "name": "stdout",
          "text": [
            "float64\n"
          ]
        }
      ]
    },
    {
      "cell_type": "code",
      "source": [
        "df2[\"Bwd Packet Length Std\"]=pd.to_numeric(df2[\"Bwd Packet Length Std\"])\n",
        "print(df2[\"Bwd Packet Length Std\"].dtype)"
      ],
      "metadata": {
        "colab": {
          "base_uri": "https://localhost:8080/"
        },
        "id": "tnfx46cYNoGE",
        "outputId": "b512720c-c822-42c4-bf4f-074556ee66bc"
      },
      "execution_count": 21,
      "outputs": [
        {
          "output_type": "stream",
          "name": "stdout",
          "text": [
            "float64\n"
          ]
        }
      ]
    },
    {
      "cell_type": "code",
      "source": [
        "df2[\"Flow Bytes/s\"] = pd.to_numeric(df2[\"Flow Bytes/s\"], errors=\"coerce\")\n",
        "print(df2[\"Flow Bytes/s\"].dtype)"
      ],
      "metadata": {
        "colab": {
          "base_uri": "https://localhost:8080/"
        },
        "id": "aMW3PRcPNoPq",
        "outputId": "b7b331d1-8b39-4f52-a412-0c53db189762"
      },
      "execution_count": 22,
      "outputs": [
        {
          "output_type": "stream",
          "name": "stdout",
          "text": [
            "float64\n"
          ]
        }
      ]
    },
    {
      "cell_type": "code",
      "source": [
        "df2[\"Flow Packets/s\"]=pd.to_numeric(df2[\"Flow Packets/s\"])\n",
        "print(df2[\"Flow Packets/s\"].dtype)"
      ],
      "metadata": {
        "colab": {
          "base_uri": "https://localhost:8080/"
        },
        "id": "vPAkJxgAOYTT",
        "outputId": "1ef5e896-58cf-4495-e557-d92e78602987"
      },
      "execution_count": 23,
      "outputs": [
        {
          "output_type": "stream",
          "name": "stdout",
          "text": [
            "float64\n"
          ]
        }
      ]
    },
    {
      "cell_type": "code",
      "source": [
        "df2[\"Flow IAT Mean\"]=pd.to_numeric(df2[\"Flow IAT Mean\"])\n",
        "print(df2[\"Flow IAT Mean\"].dtype)"
      ],
      "metadata": {
        "colab": {
          "base_uri": "https://localhost:8080/"
        },
        "id": "ljOLnVZqOxEM",
        "outputId": "bf7277d4-8725-44c5-f631-e25cde630e08"
      },
      "execution_count": 24,
      "outputs": [
        {
          "output_type": "stream",
          "name": "stdout",
          "text": [
            "float64\n"
          ]
        }
      ]
    },
    {
      "cell_type": "code",
      "source": [
        "df2[\"Flow IAT Max\"]=pd.to_numeric(df2[\"Flow IAT Max\"])\n",
        "print(df2[\"Flow IAT Max\"].dtype)"
      ],
      "metadata": {
        "id": "VXdkbsRqPEDj",
        "colab": {
          "base_uri": "https://localhost:8080/"
        },
        "outputId": "aa845f04-57bd-43bc-9078-8a3b4a29184c"
      },
      "execution_count": 26,
      "outputs": [
        {
          "output_type": "stream",
          "name": "stdout",
          "text": [
            "int64\n"
          ]
        }
      ]
    },
    {
      "cell_type": "code",
      "source": [
        "df2[\"Flow IAT Min\"]=pd.to_numeric(df2[\"Flow IAT Min\"])\n",
        "print(df2[\"Flow IAT Min\"].dtype)"
      ],
      "metadata": {
        "id": "r3UmXHURPEJ4",
        "colab": {
          "base_uri": "https://localhost:8080/"
        },
        "outputId": "e3fa52ce-dcd3-4e58-fe37-2aed836b22d2"
      },
      "execution_count": 27,
      "outputs": [
        {
          "output_type": "stream",
          "name": "stdout",
          "text": [
            "int64\n"
          ]
        }
      ]
    },
    {
      "cell_type": "code",
      "source": [
        "df2[\"Fwd IAT Total\"]=pd.to_numeric(df2[\"Fwd IAT Total\"])\n",
        "print(df2[\"Fwd IAT Total\"].dtype)"
      ],
      "metadata": {
        "id": "xWi7cAfyPEPD",
        "colab": {
          "base_uri": "https://localhost:8080/"
        },
        "outputId": "7785b962-f426-4590-eb83-d532339d701e"
      },
      "execution_count": 28,
      "outputs": [
        {
          "output_type": "stream",
          "name": "stdout",
          "text": [
            "int64\n"
          ]
        }
      ]
    },
    {
      "cell_type": "code",
      "source": [
        "df2[\"Fwd IAT Mean\"]=pd.to_numeric(df2[\"Fwd IAT Mean\"])\n",
        "print(df2[\"Fwd IAT Mean\"].dtype)"
      ],
      "metadata": {
        "id": "wf7Hm72Sbs6V",
        "colab": {
          "base_uri": "https://localhost:8080/"
        },
        "outputId": "9f45b14a-d8be-4e27-82e7-0712bb513759"
      },
      "execution_count": 29,
      "outputs": [
        {
          "output_type": "stream",
          "name": "stdout",
          "text": [
            "float64\n"
          ]
        }
      ]
    },
    {
      "cell_type": "code",
      "source": [
        "df2[\"Fwd IAT Std\"]=pd.to_numeric(df2[\"Fwd IAT Std\"])\n",
        "print(df2[\"Fwd IAT Std\"].dtype)"
      ],
      "metadata": {
        "id": "6Lrhe74NbtMR",
        "colab": {
          "base_uri": "https://localhost:8080/"
        },
        "outputId": "4a54275e-06aa-4e3b-ac47-47606f73c713"
      },
      "execution_count": 30,
      "outputs": [
        {
          "output_type": "stream",
          "name": "stdout",
          "text": [
            "float64\n"
          ]
        }
      ]
    },
    {
      "cell_type": "code",
      "source": [
        "df2[\"Fwd IAT Max\"]=pd.to_numeric(df2[\"Fwd IAT Max\"])\n",
        "print(df2[\"Fwd IAT Max\"].dtype)"
      ],
      "metadata": {
        "id": "nVEqqsLkbteP",
        "colab": {
          "base_uri": "https://localhost:8080/"
        },
        "outputId": "5db0dcc2-266d-47dc-c059-707ae0d44a25"
      },
      "execution_count": null,
      "outputs": [
        {
          "output_type": "stream",
          "name": "stdout",
          "text": [
            "int64\n"
          ]
        }
      ]
    },
    {
      "cell_type": "code",
      "source": [
        "df2[\"Fwd IAT Min\"]=pd.to_numeric(df2[\"Fwd IAT Min\"])\n",
        "print(df2[\"Fwd IAT Min\"].dtype)"
      ],
      "metadata": {
        "id": "lsHZLQOUbtqe",
        "colab": {
          "base_uri": "https://localhost:8080/"
        },
        "outputId": "d80425e5-a1bd-44f0-b3b5-ebbccc72b83b"
      },
      "execution_count": null,
      "outputs": [
        {
          "output_type": "stream",
          "name": "stdout",
          "text": [
            "int64\n"
          ]
        }
      ]
    },
    {
      "cell_type": "code",
      "source": [
        "df2[\"Bwd IAT Total\"]=pd.to_numeric(df2[\"Bwd IAT Total\"])\n",
        "print(df2[\"Bwd IAT Total\"].dtype)"
      ],
      "metadata": {
        "id": "7eXfKf6cbt1r",
        "colab": {
          "base_uri": "https://localhost:8080/"
        },
        "outputId": "6f318218-4942-4b65-e406-d96d0dbb8148"
      },
      "execution_count": null,
      "outputs": [
        {
          "output_type": "stream",
          "name": "stdout",
          "text": [
            "int64\n"
          ]
        }
      ]
    },
    {
      "cell_type": "code",
      "source": [
        "df2[\"Fwd IAT Total\"]=pd.to_numeric(df2[\"Fwd IAT Total\"])\n",
        "print(df2[\"Fwd IAT Total\"].dtype)"
      ],
      "metadata": {
        "colab": {
          "base_uri": "https://localhost:8080/"
        },
        "id": "QDMQ2TOFbt-9",
        "outputId": "c0b45961-2b4b-4b98-f5e8-bfcb98bd5d82"
      },
      "execution_count": null,
      "outputs": [
        {
          "output_type": "stream",
          "name": "stdout",
          "text": [
            "int64\n"
          ]
        }
      ]
    },
    {
      "cell_type": "code",
      "source": [
        "df2[\"Bwd IAT Std\"]=pd.to_numeric(df2[\"Bwd IAT Std\"])\n",
        "print(df2[\"Bwd IAT Std\"].dtype)"
      ],
      "metadata": {
        "colab": {
          "base_uri": "https://localhost:8080/"
        },
        "id": "hnU9hVdecr21",
        "outputId": "c2376e16-7e4c-4387-f011-1c91f5c43975"
      },
      "execution_count": null,
      "outputs": [
        {
          "output_type": "stream",
          "name": "stdout",
          "text": [
            "float64\n"
          ]
        }
      ]
    },
    {
      "cell_type": "code",
      "source": [
        "df2[\"Bwd IAT Max\"]=pd.to_numeric(df2[\"Bwd IAT Max\"])\n",
        "print(df2[\"Bwd IAT Max\"].dtype)"
      ],
      "metadata": {
        "colab": {
          "base_uri": "https://localhost:8080/"
        },
        "id": "zgYRlV5Ocr-r",
        "outputId": "c3b11c0f-ab8c-4597-81ce-b3e65f19ce4b"
      },
      "execution_count": null,
      "outputs": [
        {
          "output_type": "stream",
          "name": "stdout",
          "text": [
            "int64\n"
          ]
        }
      ]
    },
    {
      "cell_type": "code",
      "source": [
        "df2[\"Bwd IAT Min\"]=pd.to_numeric(df2[\"Bwd IAT Min\"])\n",
        "print(df2[\"Bwd IAT Min\"].dtype)"
      ],
      "metadata": {
        "colab": {
          "base_uri": "https://localhost:8080/"
        },
        "id": "BED_Bw8ncsLa",
        "outputId": "600bb390-e787-4201-d39f-952c573368c9"
      },
      "execution_count": null,
      "outputs": [
        {
          "output_type": "stream",
          "name": "stdout",
          "text": [
            "int64\n"
          ]
        }
      ]
    },
    {
      "cell_type": "code",
      "source": [
        "df2[\"Fwd PSH Flags\"]=pd.to_numeric(df2[\"Fwd PSH Flags\"])\n",
        "print(df2[\"Fwd PSH Flags\"].dtype)"
      ],
      "metadata": {
        "colab": {
          "base_uri": "https://localhost:8080/"
        },
        "id": "NfCXGbiucsV1",
        "outputId": "6a7d0245-0462-42fd-f11c-52cacf2b4c44"
      },
      "execution_count": null,
      "outputs": [
        {
          "output_type": "stream",
          "name": "stdout",
          "text": [
            "int64\n"
          ]
        }
      ]
    },
    {
      "cell_type": "code",
      "source": [
        "df2[\"Bwd PSH Flags\"]=pd.to_numeric(df2[\"Bwd PSH Flags\"])\n",
        "print(df2[\"Bwd PSH Flags\"].dtype)"
      ],
      "metadata": {
        "colab": {
          "base_uri": "https://localhost:8080/"
        },
        "id": "EB889FY_cshj",
        "outputId": "8a25b3ac-38da-4114-bc99-663b7adfda17"
      },
      "execution_count": null,
      "outputs": [
        {
          "output_type": "stream",
          "name": "stdout",
          "text": [
            "int64\n"
          ]
        }
      ]
    },
    {
      "cell_type": "code",
      "source": [
        "df2[\"Fwd URG Flags\"]=pd.to_numeric(df2[\"Fwd URG Flags\"])\n",
        "print(df2[\"Fwd URG Flags\"].dtype)"
      ],
      "metadata": {
        "colab": {
          "base_uri": "https://localhost:8080/"
        },
        "id": "cUFfq_dvcsse",
        "outputId": "e684c7b4-c2cc-46dc-904b-a735d785da25"
      },
      "execution_count": null,
      "outputs": [
        {
          "output_type": "stream",
          "name": "stdout",
          "text": [
            "int64\n"
          ]
        }
      ]
    },
    {
      "cell_type": "code",
      "source": [
        "df2[\"Bwd URG Flags\"]=pd.to_numeric(df2[\"Bwd URG Flags\"])\n",
        "print(df2[\"Bwd URG Flags\"].dtype)"
      ],
      "metadata": {
        "id": "tLKjz3alcs3a",
        "colab": {
          "base_uri": "https://localhost:8080/"
        },
        "outputId": "20fbbc93-f303-47e6-85dd-4eb66bebcdd3"
      },
      "execution_count": null,
      "outputs": [
        {
          "output_type": "stream",
          "name": "stdout",
          "text": [
            "int64\n"
          ]
        }
      ]
    },
    {
      "cell_type": "code",
      "source": [
        "df2[\"Fwd Header Length\"]=pd.to_numeric(df2[\"Fwd Header Length\"])\n",
        "print(df2[\"Fwd Header Length\"].dtype)"
      ],
      "metadata": {
        "id": "aZzYlLQbctDn",
        "colab": {
          "base_uri": "https://localhost:8080/"
        },
        "outputId": "ae233fa1-b237-4b02-da1a-2f24bbe86624"
      },
      "execution_count": null,
      "outputs": [
        {
          "output_type": "stream",
          "name": "stdout",
          "text": [
            "int64\n"
          ]
        }
      ]
    },
    {
      "cell_type": "code",
      "source": [
        "df2[\"Bwd Header Length\"]=pd.to_numeric(df2[\"Bwd Header Length\"])\n",
        "print(df2[\"Bwd Header Length\"].dtype)"
      ],
      "metadata": {
        "id": "TQR3FK48ctP4",
        "colab": {
          "base_uri": "https://localhost:8080/"
        },
        "outputId": "a89d4539-a7cb-4194-986d-a03564e38d16"
      },
      "execution_count": null,
      "outputs": [
        {
          "output_type": "stream",
          "name": "stdout",
          "text": [
            "int64\n"
          ]
        }
      ]
    },
    {
      "cell_type": "code",
      "source": [
        "df2[\"Fwd Packets/s\"]=pd.to_numeric(df2[\"Fwd Packets/s\"])\n",
        "print(df2[\"Fwd Packets/s\"].dtype)"
      ],
      "metadata": {
        "id": "x9m5Nm0Uctbn",
        "colab": {
          "base_uri": "https://localhost:8080/"
        },
        "outputId": "1ba3a87a-4ef6-49cb-aaa2-60b82ed85b28"
      },
      "execution_count": 33,
      "outputs": [
        {
          "output_type": "stream",
          "name": "stdout",
          "text": [
            "float64\n"
          ]
        }
      ]
    },
    {
      "cell_type": "code",
      "source": [
        "df2[\"Bwd Packets/s\"]=pd.to_numeric(df2[\"Bwd Packets/s\"])\n",
        "print(df2[\"Bwd Packets/s\"].dtype)"
      ],
      "metadata": {
        "id": "Re8rJ1tndZUm",
        "colab": {
          "base_uri": "https://localhost:8080/"
        },
        "outputId": "31423f8c-759f-4f71-881c-7b3390904651"
      },
      "execution_count": 32,
      "outputs": [
        {
          "output_type": "stream",
          "name": "stdout",
          "text": [
            "float64\n"
          ]
        }
      ]
    },
    {
      "cell_type": "code",
      "source": [
        "df.describe()"
      ],
      "metadata": {
        "colab": {
          "base_uri": "https://localhost:8080/",
          "height": 384
        },
        "id": "_f-4R_63fIpG",
        "outputId": "5d9ced65-c3d1-4766-ba82-1dffb3f909c8"
      },
      "execution_count": 31,
      "outputs": [
        {
          "output_type": "execute_result",
          "data": {
            "text/plain": [
              "            Src Port       Dst Port       Protocol  Flow Duration  \\\n",
              "count  158616.000000  158616.000000  158616.000000   1.586160e+05   \n",
              "mean    38355.190599   17444.423684      10.220671   2.064569e+07   \n",
              "std     19256.809575   22113.288014       5.398461   3.799717e+07   \n",
              "min         0.000000       0.000000       0.000000   0.000000e+00   \n",
              "25%     32916.000000      80.000000       6.000000   4.944250e+03   \n",
              "50%     43533.000000    4070.000000       6.000000   4.169220e+05   \n",
              "75%     53260.000000   39817.250000      17.000000   1.171051e+07   \n",
              "max     65534.000000   65535.000000      17.000000   1.200000e+08   \n",
              "\n",
              "       Total Fwd Packet  Total Bwd packets  Total Length of Fwd Packet  \\\n",
              "count     158616.000000      158616.000000                1.586160e+05   \n",
              "mean         139.584058         142.036547                1.006577e+05   \n",
              "std         2247.873161        3230.451392                3.071446e+06   \n",
              "min            1.000000           0.000000                0.000000e+00   \n",
              "25%            1.000000           0.000000                0.000000e+00   \n",
              "50%            2.000000           1.000000                4.400000e+01   \n",
              "75%            4.000000           3.000000                2.380000e+02   \n",
              "max       238161.000000      470862.000000                7.693074e+08   \n",
              "\n",
              "       Total Length of Bwd Packet  Fwd Packet Length Max  \\\n",
              "count                1.586160e+05          158616.000000   \n",
              "mean                 1.194523e+05             208.381134   \n",
              "std                  4.313782e+06             625.564393   \n",
              "min                  0.000000e+00               0.000000   \n",
              "25%                  0.000000e+00               0.000000   \n",
              "50%                  0.000000e+00              34.000000   \n",
              "75%                  2.160000e+02             107.000000   \n",
              "max                  6.704287e+08           64240.000000   \n",
              "\n",
              "       Fwd Packet Length Min  ...  Fwd Act Data Pkts  Fwd Seg Size Min  \\\n",
              "count          158616.000000  ...      158616.000000     158616.000000   \n",
              "mean               15.142136  ...          87.662146         15.885863   \n",
              "std                30.300339  ...        1496.097737          6.955550   \n",
              "min                 0.000000  ...           0.000000          0.000000   \n",
              "25%                 0.000000  ...           0.000000          8.000000   \n",
              "50%                 0.000000  ...           1.000000         20.000000   \n",
              "75%                31.000000  ...           2.000000         20.000000   \n",
              "max              1350.000000  ...      113325.000000         44.000000   \n",
              "\n",
              "       Active Mean  Active Std  Active Max  Active Min     Idle Mean  \\\n",
              "count     158616.0    158616.0    158616.0    158616.0  1.586160e+05   \n",
              "mean           0.0         0.0         0.0         0.0  7.134231e+14   \n",
              "std            0.0         0.0         0.0         0.0  7.052456e+14   \n",
              "min            0.0         0.0         0.0         0.0  0.000000e+00   \n",
              "25%            0.0         0.0         0.0         0.0  0.000000e+00   \n",
              "50%            0.0         0.0         0.0         0.0  7.281651e+14   \n",
              "75%            0.0         0.0         0.0         0.0  1.456253e+15   \n",
              "max            0.0         0.0         0.0         0.0  1.456417e+15   \n",
              "\n",
              "           Idle Std      Idle Max      Idle Min  \n",
              "count  1.586160e+05  1.586160e+05  1.586160e+05  \n",
              "mean   5.873675e+13  7.435619e+14  6.023175e+14  \n",
              "std    2.006960e+14  7.248794e+14  7.145478e+14  \n",
              "min    0.000000e+00  0.000000e+00  0.000000e+00  \n",
              "25%    0.000000e+00  0.000000e+00  0.000000e+00  \n",
              "50%    0.000000e+00  1.427909e+15  5.664990e+06  \n",
              "75%    1.210090e+07  1.456322e+15  1.456253e+15  \n",
              "max    1.029836e+15  1.456417e+15  1.456417e+15  \n",
              "\n",
              "[8 rows x 79 columns]"
            ],
            "text/html": [
              "\n",
              "  <div id=\"df-511eb3cf-6a08-419c-84bb-2684db738e8f\" class=\"colab-df-container\">\n",
              "    <div>\n",
              "<style scoped>\n",
              "    .dataframe tbody tr th:only-of-type {\n",
              "        vertical-align: middle;\n",
              "    }\n",
              "\n",
              "    .dataframe tbody tr th {\n",
              "        vertical-align: top;\n",
              "    }\n",
              "\n",
              "    .dataframe thead th {\n",
              "        text-align: right;\n",
              "    }\n",
              "</style>\n",
              "<table border=\"1\" class=\"dataframe\">\n",
              "  <thead>\n",
              "    <tr style=\"text-align: right;\">\n",
              "      <th></th>\n",
              "      <th>Src Port</th>\n",
              "      <th>Dst Port</th>\n",
              "      <th>Protocol</th>\n",
              "      <th>Flow Duration</th>\n",
              "      <th>Total Fwd Packet</th>\n",
              "      <th>Total Bwd packets</th>\n",
              "      <th>Total Length of Fwd Packet</th>\n",
              "      <th>Total Length of Bwd Packet</th>\n",
              "      <th>Fwd Packet Length Max</th>\n",
              "      <th>Fwd Packet Length Min</th>\n",
              "      <th>...</th>\n",
              "      <th>Fwd Act Data Pkts</th>\n",
              "      <th>Fwd Seg Size Min</th>\n",
              "      <th>Active Mean</th>\n",
              "      <th>Active Std</th>\n",
              "      <th>Active Max</th>\n",
              "      <th>Active Min</th>\n",
              "      <th>Idle Mean</th>\n",
              "      <th>Idle Std</th>\n",
              "      <th>Idle Max</th>\n",
              "      <th>Idle Min</th>\n",
              "    </tr>\n",
              "  </thead>\n",
              "  <tbody>\n",
              "    <tr>\n",
              "      <th>count</th>\n",
              "      <td>158616.000000</td>\n",
              "      <td>158616.000000</td>\n",
              "      <td>158616.000000</td>\n",
              "      <td>1.586160e+05</td>\n",
              "      <td>158616.000000</td>\n",
              "      <td>158616.000000</td>\n",
              "      <td>1.586160e+05</td>\n",
              "      <td>1.586160e+05</td>\n",
              "      <td>158616.000000</td>\n",
              "      <td>158616.000000</td>\n",
              "      <td>...</td>\n",
              "      <td>158616.000000</td>\n",
              "      <td>158616.000000</td>\n",
              "      <td>158616.0</td>\n",
              "      <td>158616.0</td>\n",
              "      <td>158616.0</td>\n",
              "      <td>158616.0</td>\n",
              "      <td>1.586160e+05</td>\n",
              "      <td>1.586160e+05</td>\n",
              "      <td>1.586160e+05</td>\n",
              "      <td>1.586160e+05</td>\n",
              "    </tr>\n",
              "    <tr>\n",
              "      <th>mean</th>\n",
              "      <td>38355.190599</td>\n",
              "      <td>17444.423684</td>\n",
              "      <td>10.220671</td>\n",
              "      <td>2.064569e+07</td>\n",
              "      <td>139.584058</td>\n",
              "      <td>142.036547</td>\n",
              "      <td>1.006577e+05</td>\n",
              "      <td>1.194523e+05</td>\n",
              "      <td>208.381134</td>\n",
              "      <td>15.142136</td>\n",
              "      <td>...</td>\n",
              "      <td>87.662146</td>\n",
              "      <td>15.885863</td>\n",
              "      <td>0.0</td>\n",
              "      <td>0.0</td>\n",
              "      <td>0.0</td>\n",
              "      <td>0.0</td>\n",
              "      <td>7.134231e+14</td>\n",
              "      <td>5.873675e+13</td>\n",
              "      <td>7.435619e+14</td>\n",
              "      <td>6.023175e+14</td>\n",
              "    </tr>\n",
              "    <tr>\n",
              "      <th>std</th>\n",
              "      <td>19256.809575</td>\n",
              "      <td>22113.288014</td>\n",
              "      <td>5.398461</td>\n",
              "      <td>3.799717e+07</td>\n",
              "      <td>2247.873161</td>\n",
              "      <td>3230.451392</td>\n",
              "      <td>3.071446e+06</td>\n",
              "      <td>4.313782e+06</td>\n",
              "      <td>625.564393</td>\n",
              "      <td>30.300339</td>\n",
              "      <td>...</td>\n",
              "      <td>1496.097737</td>\n",
              "      <td>6.955550</td>\n",
              "      <td>0.0</td>\n",
              "      <td>0.0</td>\n",
              "      <td>0.0</td>\n",
              "      <td>0.0</td>\n",
              "      <td>7.052456e+14</td>\n",
              "      <td>2.006960e+14</td>\n",
              "      <td>7.248794e+14</td>\n",
              "      <td>7.145478e+14</td>\n",
              "    </tr>\n",
              "    <tr>\n",
              "      <th>min</th>\n",
              "      <td>0.000000</td>\n",
              "      <td>0.000000</td>\n",
              "      <td>0.000000</td>\n",
              "      <td>0.000000e+00</td>\n",
              "      <td>1.000000</td>\n",
              "      <td>0.000000</td>\n",
              "      <td>0.000000e+00</td>\n",
              "      <td>0.000000e+00</td>\n",
              "      <td>0.000000</td>\n",
              "      <td>0.000000</td>\n",
              "      <td>...</td>\n",
              "      <td>0.000000</td>\n",
              "      <td>0.000000</td>\n",
              "      <td>0.0</td>\n",
              "      <td>0.0</td>\n",
              "      <td>0.0</td>\n",
              "      <td>0.0</td>\n",
              "      <td>0.000000e+00</td>\n",
              "      <td>0.000000e+00</td>\n",
              "      <td>0.000000e+00</td>\n",
              "      <td>0.000000e+00</td>\n",
              "    </tr>\n",
              "    <tr>\n",
              "      <th>25%</th>\n",
              "      <td>32916.000000</td>\n",
              "      <td>80.000000</td>\n",
              "      <td>6.000000</td>\n",
              "      <td>4.944250e+03</td>\n",
              "      <td>1.000000</td>\n",
              "      <td>0.000000</td>\n",
              "      <td>0.000000e+00</td>\n",
              "      <td>0.000000e+00</td>\n",
              "      <td>0.000000</td>\n",
              "      <td>0.000000</td>\n",
              "      <td>...</td>\n",
              "      <td>0.000000</td>\n",
              "      <td>8.000000</td>\n",
              "      <td>0.0</td>\n",
              "      <td>0.0</td>\n",
              "      <td>0.0</td>\n",
              "      <td>0.0</td>\n",
              "      <td>0.000000e+00</td>\n",
              "      <td>0.000000e+00</td>\n",
              "      <td>0.000000e+00</td>\n",
              "      <td>0.000000e+00</td>\n",
              "    </tr>\n",
              "    <tr>\n",
              "      <th>50%</th>\n",
              "      <td>43533.000000</td>\n",
              "      <td>4070.000000</td>\n",
              "      <td>6.000000</td>\n",
              "      <td>4.169220e+05</td>\n",
              "      <td>2.000000</td>\n",
              "      <td>1.000000</td>\n",
              "      <td>4.400000e+01</td>\n",
              "      <td>0.000000e+00</td>\n",
              "      <td>34.000000</td>\n",
              "      <td>0.000000</td>\n",
              "      <td>...</td>\n",
              "      <td>1.000000</td>\n",
              "      <td>20.000000</td>\n",
              "      <td>0.0</td>\n",
              "      <td>0.0</td>\n",
              "      <td>0.0</td>\n",
              "      <td>0.0</td>\n",
              "      <td>7.281651e+14</td>\n",
              "      <td>0.000000e+00</td>\n",
              "      <td>1.427909e+15</td>\n",
              "      <td>5.664990e+06</td>\n",
              "    </tr>\n",
              "    <tr>\n",
              "      <th>75%</th>\n",
              "      <td>53260.000000</td>\n",
              "      <td>39817.250000</td>\n",
              "      <td>17.000000</td>\n",
              "      <td>1.171051e+07</td>\n",
              "      <td>4.000000</td>\n",
              "      <td>3.000000</td>\n",
              "      <td>2.380000e+02</td>\n",
              "      <td>2.160000e+02</td>\n",
              "      <td>107.000000</td>\n",
              "      <td>31.000000</td>\n",
              "      <td>...</td>\n",
              "      <td>2.000000</td>\n",
              "      <td>20.000000</td>\n",
              "      <td>0.0</td>\n",
              "      <td>0.0</td>\n",
              "      <td>0.0</td>\n",
              "      <td>0.0</td>\n",
              "      <td>1.456253e+15</td>\n",
              "      <td>1.210090e+07</td>\n",
              "      <td>1.456322e+15</td>\n",
              "      <td>1.456253e+15</td>\n",
              "    </tr>\n",
              "    <tr>\n",
              "      <th>max</th>\n",
              "      <td>65534.000000</td>\n",
              "      <td>65535.000000</td>\n",
              "      <td>17.000000</td>\n",
              "      <td>1.200000e+08</td>\n",
              "      <td>238161.000000</td>\n",
              "      <td>470862.000000</td>\n",
              "      <td>7.693074e+08</td>\n",
              "      <td>6.704287e+08</td>\n",
              "      <td>64240.000000</td>\n",
              "      <td>1350.000000</td>\n",
              "      <td>...</td>\n",
              "      <td>113325.000000</td>\n",
              "      <td>44.000000</td>\n",
              "      <td>0.0</td>\n",
              "      <td>0.0</td>\n",
              "      <td>0.0</td>\n",
              "      <td>0.0</td>\n",
              "      <td>1.456417e+15</td>\n",
              "      <td>1.029836e+15</td>\n",
              "      <td>1.456417e+15</td>\n",
              "      <td>1.456417e+15</td>\n",
              "    </tr>\n",
              "  </tbody>\n",
              "</table>\n",
              "<p>8 rows × 79 columns</p>\n",
              "</div>\n",
              "    <div class=\"colab-df-buttons\">\n",
              "\n",
              "  <div class=\"colab-df-container\">\n",
              "    <button class=\"colab-df-convert\" onclick=\"convertToInteractive('df-511eb3cf-6a08-419c-84bb-2684db738e8f')\"\n",
              "            title=\"Convert this dataframe to an interactive table.\"\n",
              "            style=\"display:none;\">\n",
              "\n",
              "  <svg xmlns=\"http://www.w3.org/2000/svg\" height=\"24px\" viewBox=\"0 -960 960 960\">\n",
              "    <path d=\"M120-120v-720h720v720H120Zm60-500h600v-160H180v160Zm220 220h160v-160H400v160Zm0 220h160v-160H400v160ZM180-400h160v-160H180v160Zm440 0h160v-160H620v160ZM180-180h160v-160H180v160Zm440 0h160v-160H620v160Z\"/>\n",
              "  </svg>\n",
              "    </button>\n",
              "\n",
              "  <style>\n",
              "    .colab-df-container {\n",
              "      display:flex;\n",
              "      gap: 12px;\n",
              "    }\n",
              "\n",
              "    .colab-df-convert {\n",
              "      background-color: #E8F0FE;\n",
              "      border: none;\n",
              "      border-radius: 50%;\n",
              "      cursor: pointer;\n",
              "      display: none;\n",
              "      fill: #1967D2;\n",
              "      height: 32px;\n",
              "      padding: 0 0 0 0;\n",
              "      width: 32px;\n",
              "    }\n",
              "\n",
              "    .colab-df-convert:hover {\n",
              "      background-color: #E2EBFA;\n",
              "      box-shadow: 0px 1px 2px rgba(60, 64, 67, 0.3), 0px 1px 3px 1px rgba(60, 64, 67, 0.15);\n",
              "      fill: #174EA6;\n",
              "    }\n",
              "\n",
              "    .colab-df-buttons div {\n",
              "      margin-bottom: 4px;\n",
              "    }\n",
              "\n",
              "    [theme=dark] .colab-df-convert {\n",
              "      background-color: #3B4455;\n",
              "      fill: #D2E3FC;\n",
              "    }\n",
              "\n",
              "    [theme=dark] .colab-df-convert:hover {\n",
              "      background-color: #434B5C;\n",
              "      box-shadow: 0px 1px 3px 1px rgba(0, 0, 0, 0.15);\n",
              "      filter: drop-shadow(0px 1px 2px rgba(0, 0, 0, 0.3));\n",
              "      fill: #FFFFFF;\n",
              "    }\n",
              "  </style>\n",
              "\n",
              "    <script>\n",
              "      const buttonEl =\n",
              "        document.querySelector('#df-511eb3cf-6a08-419c-84bb-2684db738e8f button.colab-df-convert');\n",
              "      buttonEl.style.display =\n",
              "        google.colab.kernel.accessAllowed ? 'block' : 'none';\n",
              "\n",
              "      async function convertToInteractive(key) {\n",
              "        const element = document.querySelector('#df-511eb3cf-6a08-419c-84bb-2684db738e8f');\n",
              "        const dataTable =\n",
              "          await google.colab.kernel.invokeFunction('convertToInteractive',\n",
              "                                                    [key], {});\n",
              "        if (!dataTable) return;\n",
              "\n",
              "        const docLinkHtml = 'Like what you see? Visit the ' +\n",
              "          '<a target=\"_blank\" href=https://colab.research.google.com/notebooks/data_table.ipynb>data table notebook</a>'\n",
              "          + ' to learn more about interactive tables.';\n",
              "        element.innerHTML = '';\n",
              "        dataTable['output_type'] = 'display_data';\n",
              "        await google.colab.output.renderOutput(dataTable, element);\n",
              "        const docLink = document.createElement('div');\n",
              "        docLink.innerHTML = docLinkHtml;\n",
              "        element.appendChild(docLink);\n",
              "      }\n",
              "    </script>\n",
              "  </div>\n",
              "\n",
              "\n",
              "    <div id=\"df-07109f3c-3338-4ccd-976c-225c254a69d4\">\n",
              "      <button class=\"colab-df-quickchart\" onclick=\"quickchart('df-07109f3c-3338-4ccd-976c-225c254a69d4')\"\n",
              "                title=\"Suggest charts\"\n",
              "                style=\"display:none;\">\n",
              "\n",
              "<svg xmlns=\"http://www.w3.org/2000/svg\" height=\"24px\"viewBox=\"0 0 24 24\"\n",
              "     width=\"24px\">\n",
              "    <g>\n",
              "        <path d=\"M19 3H5c-1.1 0-2 .9-2 2v14c0 1.1.9 2 2 2h14c1.1 0 2-.9 2-2V5c0-1.1-.9-2-2-2zM9 17H7v-7h2v7zm4 0h-2V7h2v10zm4 0h-2v-4h2v4z\"/>\n",
              "    </g>\n",
              "</svg>\n",
              "      </button>\n",
              "\n",
              "<style>\n",
              "  .colab-df-quickchart {\n",
              "      --bg-color: #E8F0FE;\n",
              "      --fill-color: #1967D2;\n",
              "      --hover-bg-color: #E2EBFA;\n",
              "      --hover-fill-color: #174EA6;\n",
              "      --disabled-fill-color: #AAA;\n",
              "      --disabled-bg-color: #DDD;\n",
              "  }\n",
              "\n",
              "  [theme=dark] .colab-df-quickchart {\n",
              "      --bg-color: #3B4455;\n",
              "      --fill-color: #D2E3FC;\n",
              "      --hover-bg-color: #434B5C;\n",
              "      --hover-fill-color: #FFFFFF;\n",
              "      --disabled-bg-color: #3B4455;\n",
              "      --disabled-fill-color: #666;\n",
              "  }\n",
              "\n",
              "  .colab-df-quickchart {\n",
              "    background-color: var(--bg-color);\n",
              "    border: none;\n",
              "    border-radius: 50%;\n",
              "    cursor: pointer;\n",
              "    display: none;\n",
              "    fill: var(--fill-color);\n",
              "    height: 32px;\n",
              "    padding: 0;\n",
              "    width: 32px;\n",
              "  }\n",
              "\n",
              "  .colab-df-quickchart:hover {\n",
              "    background-color: var(--hover-bg-color);\n",
              "    box-shadow: 0 1px 2px rgba(60, 64, 67, 0.3), 0 1px 3px 1px rgba(60, 64, 67, 0.15);\n",
              "    fill: var(--button-hover-fill-color);\n",
              "  }\n",
              "\n",
              "  .colab-df-quickchart-complete:disabled,\n",
              "  .colab-df-quickchart-complete:disabled:hover {\n",
              "    background-color: var(--disabled-bg-color);\n",
              "    fill: var(--disabled-fill-color);\n",
              "    box-shadow: none;\n",
              "  }\n",
              "\n",
              "  .colab-df-spinner {\n",
              "    border: 2px solid var(--fill-color);\n",
              "    border-color: transparent;\n",
              "    border-bottom-color: var(--fill-color);\n",
              "    animation:\n",
              "      spin 1s steps(1) infinite;\n",
              "  }\n",
              "\n",
              "  @keyframes spin {\n",
              "    0% {\n",
              "      border-color: transparent;\n",
              "      border-bottom-color: var(--fill-color);\n",
              "      border-left-color: var(--fill-color);\n",
              "    }\n",
              "    20% {\n",
              "      border-color: transparent;\n",
              "      border-left-color: var(--fill-color);\n",
              "      border-top-color: var(--fill-color);\n",
              "    }\n",
              "    30% {\n",
              "      border-color: transparent;\n",
              "      border-left-color: var(--fill-color);\n",
              "      border-top-color: var(--fill-color);\n",
              "      border-right-color: var(--fill-color);\n",
              "    }\n",
              "    40% {\n",
              "      border-color: transparent;\n",
              "      border-right-color: var(--fill-color);\n",
              "      border-top-color: var(--fill-color);\n",
              "    }\n",
              "    60% {\n",
              "      border-color: transparent;\n",
              "      border-right-color: var(--fill-color);\n",
              "    }\n",
              "    80% {\n",
              "      border-color: transparent;\n",
              "      border-right-color: var(--fill-color);\n",
              "      border-bottom-color: var(--fill-color);\n",
              "    }\n",
              "    90% {\n",
              "      border-color: transparent;\n",
              "      border-bottom-color: var(--fill-color);\n",
              "    }\n",
              "  }\n",
              "</style>\n",
              "\n",
              "      <script>\n",
              "        async function quickchart(key) {\n",
              "          const quickchartButtonEl =\n",
              "            document.querySelector('#' + key + ' button');\n",
              "          quickchartButtonEl.disabled = true;  // To prevent multiple clicks.\n",
              "          quickchartButtonEl.classList.add('colab-df-spinner');\n",
              "          try {\n",
              "            const charts = await google.colab.kernel.invokeFunction(\n",
              "                'suggestCharts', [key], {});\n",
              "          } catch (error) {\n",
              "            console.error('Error during call to suggestCharts:', error);\n",
              "          }\n",
              "          quickchartButtonEl.classList.remove('colab-df-spinner');\n",
              "          quickchartButtonEl.classList.add('colab-df-quickchart-complete');\n",
              "        }\n",
              "        (() => {\n",
              "          let quickchartButtonEl =\n",
              "            document.querySelector('#df-07109f3c-3338-4ccd-976c-225c254a69d4 button');\n",
              "          quickchartButtonEl.style.display =\n",
              "            google.colab.kernel.accessAllowed ? 'block' : 'none';\n",
              "        })();\n",
              "      </script>\n",
              "    </div>\n",
              "\n",
              "    </div>\n",
              "  </div>\n"
            ],
            "application/vnd.google.colaboratory.intrinsic+json": {
              "type": "dataframe"
            }
          },
          "metadata": {},
          "execution_count": 31
        }
      ]
    },
    {
      "cell_type": "code",
      "source": [
        "df2.to_csv(\"Darknet1.csv\", index=False)"
      ],
      "metadata": {
        "id": "LhMRz9rGfOYU"
      },
      "execution_count": 34,
      "outputs": []
    },
    {
      "cell_type": "code",
      "source": [
        "dockerfile_content = \"\"\"\\\n",
        "# Imagen base oficial de Python\n",
        "FROM python:3.10-slim\n",
        "\n",
        "# Crear y establecer el directorio de trabajo\n",
        "WORKDIR /app\n",
        "\n",
        "# Copiar los archivos necesarios al contenedor\n",
        "COPY Darknet1.csv ./\n",
        "COPY Clase2BigData.ipynb ./\n",
        "\n",
        "# Instalar dependencias necesarias\n",
        "RUN pip install --no-cache-dir pandas jupyter numpy matplotlib seaborn\n",
        "\n",
        "# Exponer el puerto 8888 para acceder a Jupyter Notebook\n",
        "EXPOSE 8888\n",
        "\n",
        "# Comando para iniciar Jupyter Notebook\n",
        "CMD [\"jupyter\", \"notebook\", \"--ip=0.0.0.0\", \"--port=8888\", \"--no-browser\", \"--allow-root\"]\n",
        "\"\"\"\n",
        "\n",
        "with open(\"Dockerfile\", \"w\") as f:\n",
        "    f.write(dockerfile_content)\n"
      ],
      "metadata": {
        "id": "m_gJa2h6vJ4k"
      },
      "execution_count": 38,
      "outputs": []
    },
    {
      "cell_type": "code",
      "source": [
        "from google.colab import files\n",
        "files.download(\"Dockerfile\")"
      ],
      "metadata": {
        "colab": {
          "base_uri": "https://localhost:8080/",
          "height": 17
        },
        "id": "Zk3d3IN3vN9q",
        "outputId": "1850ee22-535b-4933-e280-94a50cac2b8e"
      },
      "execution_count": 39,
      "outputs": [
        {
          "output_type": "display_data",
          "data": {
            "text/plain": [
              "<IPython.core.display.Javascript object>"
            ],
            "application/javascript": [
              "\n",
              "    async function download(id, filename, size) {\n",
              "      if (!google.colab.kernel.accessAllowed) {\n",
              "        return;\n",
              "      }\n",
              "      const div = document.createElement('div');\n",
              "      const label = document.createElement('label');\n",
              "      label.textContent = `Downloading \"${filename}\": `;\n",
              "      div.appendChild(label);\n",
              "      const progress = document.createElement('progress');\n",
              "      progress.max = size;\n",
              "      div.appendChild(progress);\n",
              "      document.body.appendChild(div);\n",
              "\n",
              "      const buffers = [];\n",
              "      let downloaded = 0;\n",
              "\n",
              "      const channel = await google.colab.kernel.comms.open(id);\n",
              "      // Send a message to notify the kernel that we're ready.\n",
              "      channel.send({})\n",
              "\n",
              "      for await (const message of channel.messages) {\n",
              "        // Send a message to notify the kernel that we're ready.\n",
              "        channel.send({})\n",
              "        if (message.buffers) {\n",
              "          for (const buffer of message.buffers) {\n",
              "            buffers.push(buffer);\n",
              "            downloaded += buffer.byteLength;\n",
              "            progress.value = downloaded;\n",
              "          }\n",
              "        }\n",
              "      }\n",
              "      const blob = new Blob(buffers, {type: 'application/binary'});\n",
              "      const a = document.createElement('a');\n",
              "      a.href = window.URL.createObjectURL(blob);\n",
              "      a.download = filename;\n",
              "      div.appendChild(a);\n",
              "      a.click();\n",
              "      div.remove();\n",
              "    }\n",
              "  "
            ]
          },
          "metadata": {}
        },
        {
          "output_type": "display_data",
          "data": {
            "text/plain": [
              "<IPython.core.display.Javascript object>"
            ],
            "application/javascript": [
              "download(\"download_77af39ec-fcf3-474b-a7a1-b4b1e88052e3\", \"Dockerfile\", 520)"
            ]
          },
          "metadata": {}
        }
      ]
    }
  ]
}
